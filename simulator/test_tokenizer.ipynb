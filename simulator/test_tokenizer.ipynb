{
 "cells": [
  {
   "cell_type": "code",
   "execution_count": 4,
   "metadata": {},
   "outputs": [],
   "source": [
    "import tiktoken\n",
    "\n",
    "# Load an encoding\n",
    "def load_encoding(encoding_name: str = None) -> tiktoken.Encoding:\n",
    "    if encoding_name is None:\n",
    "        encoding = tiktoken.get_encoding(\"cl100k_base\")\n",
    "    else:\n",
    "        encoding = tiktoken.get_encoding(encoding_name)\n",
    "    return encoding\n",
    "\n",
    "# Count the number of tokens in a string\n",
    "def count_tokens(string: str, encoding_name: str) -> int:\n",
    "    encoding = tiktoken.get_encoding(encoding_name)\n",
    "    num_tokens = len(encoding.encode(string))\n",
    "    return num_tokens"
   ]
  },
  {
   "cell_type": "code",
   "execution_count": 7,
   "metadata": {},
   "outputs": [
    {
     "name": "stdout",
     "output_type": "stream",
     "text": [
      "[9906, 11, 1917, 0]\n",
      "Hello, world!\n",
      "4\n"
     ]
    }
   ],
   "source": [
    "# example usage\n",
    "encoding = load_encoding()\n",
    "print(encoding.encode(\"Hello, world!\"))\n",
    "print(encoding.decode(encoding.encode(\"Hello, world!\")))\n",
    "print(count_tokens(\"Hello, world!\", \"cl100k_base\"))"
   ]
  },
  {
   "cell_type": "code",
   "execution_count": null,
   "metadata": {},
   "outputs": [],
   "source": []
  }
 ],
 "metadata": {
  "kernelspec": {
   "display_name": "Python 3",
   "language": "python",
   "name": "python3"
  },
  "language_info": {
   "codemirror_mode": {
    "name": "ipython",
    "version": 3
   },
   "file_extension": ".py",
   "mimetype": "text/x-python",
   "name": "python",
   "nbconvert_exporter": "python",
   "pygments_lexer": "ipython3",
   "version": "3.10.6"
  }
 },
 "nbformat": 4,
 "nbformat_minor": 2
}
