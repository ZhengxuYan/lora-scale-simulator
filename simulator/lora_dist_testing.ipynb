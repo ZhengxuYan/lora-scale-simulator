{
 "cells": [
  {
   "cell_type": "code",
   "execution_count": 3,
   "metadata": {},
   "outputs": [],
   "source": [
    "from bisect import bisect_left\n",
    "import random\n",
    "import pickle\n",
    "import numpy as np\n",
    "\n",
    "\n",
    "def binary_search_with_uniform_choice(cdf, random_value):\n",
    "    # Find the insertion point for the random_value in the CDF list\n",
    "    index = bisect_left(cdf, (random_value,))\n",
    "    \n",
    "    # If the random value is greater than the last CDF value, uniformly choose among all entries with the same CDF value\n",
    "    if index == len(cdf):\n",
    "        max_cdf_value = cdf[-1][0]\n",
    "        candidates = [item for item in cdf if item[0] == max_cdf_value]\n",
    "        _, item_id = random.choice(candidates)\n",
    "        return item_id\n",
    "    \n",
    "    # If we found an exact match, just return the item\n",
    "    if cdf[index][0] == random_value:\n",
    "        return cdf[index][1]\n",
    "    \n",
    "    # If the random value is less than the CDF value at the found index, check for duplicate CDF values\n",
    "    if index > 0 and cdf[index - 1][0] == cdf[index][0]:\n",
    "        # Collect all items with the same CDF value\n",
    "        same_cdf_value = cdf[index][0]\n",
    "        candidates = [item for item in cdf if item[0] == same_cdf_value]\n",
    "        _, item_id = random.choice(candidates)\n",
    "        return item_id\n",
    "    \n",
    "    # Otherwise, return the item at the found index\n",
    "    return cdf[index][1]"
   ]
  },
  {
   "cell_type": "code",
   "execution_count": 8,
   "metadata": {},
   "outputs": [
    {
     "name": "stdout",
     "output_type": "stream",
     "text": [
      "The randomly selected item is: 8379\n"
     ]
    }
   ],
   "source": [
    "# Load the CDF model\n",
    "with open('lora_dist_model.pkl', 'rb') as f:\n",
    "    cdf_model = pickle.load(f)\n",
    "\n",
    "# Generate a random item\n",
    "rand = np.random.rand()\n",
    "random_item = binary_search_with_uniform_choice(cdf_model, rand)\n",
    "\n",
    "# Output the result\n",
    "print(f\"The randomly selected item is: {random_item}\")"
   ]
  },
  {
   "cell_type": "code",
   "execution_count": null,
   "metadata": {},
   "outputs": [],
   "source": []
  }
 ],
 "metadata": {
  "kernelspec": {
   "display_name": "Python 3",
   "language": "python",
   "name": "python3"
  },
  "language_info": {
   "codemirror_mode": {
    "name": "ipython",
    "version": 3
   },
   "file_extension": ".py",
   "mimetype": "text/x-python",
   "name": "python",
   "nbconvert_exporter": "python",
   "pygments_lexer": "ipython3",
   "version": "3.10.6"
  }
 },
 "nbformat": 4,
 "nbformat_minor": 2
}
