{
 "cells": [
  {
   "cell_type": "code",
   "execution_count": 9,
   "metadata": {},
   "outputs": [],
   "source": [
    "from bisect import bisect_left\n",
    "import random\n",
    "import pickle\n",
    "import numpy as np\n",
    "import time\n",
    "\n",
    "def binary_search_with_uniform_choice(cdf, random_value):\n",
    "    # Find the insertion point for the random_value in the CDF list\n",
    "    index = bisect_left(cdf, (random_value,))\n",
    "    \n",
    "    # If the random value is greater than the last CDF value, uniformly choose among all entries with the same CDF value\n",
    "    if index == len(cdf):\n",
    "        max_cdf_value = cdf[-1][0]\n",
    "        candidates = [item for item in cdf if item[0] == max_cdf_value]\n",
    "        _, item_id = random.choice(candidates)\n",
    "        return item_id\n",
    "    \n",
    "    # If we found an exact match, just return the item\n",
    "    if cdf[index][0] == random_value:\n",
    "        return cdf[index][1]\n",
    "    \n",
    "    # If the random value is less than the CDF value at the found index, check for duplicate CDF values\n",
    "    if index > 0 and cdf[index - 1][0] == cdf[index][0]:\n",
    "        # Collect all items with the same CDF value\n",
    "        same_cdf_value = cdf[index][0]\n",
    "        candidates = [item for item in cdf if item[0] == same_cdf_value]\n",
    "        _, item_id = random.choice(candidates)\n",
    "        return item_id\n",
    "    \n",
    "    # Otherwise, return the item at the found index\n",
    "    return cdf[index][1]"
   ]
  },
  {
   "cell_type": "code",
   "execution_count": 12,
   "metadata": {},
   "outputs": [
    {
     "name": "stdout",
     "output_type": "stream",
     "text": [
      "Time taken: 5.412101745605469e-05\n",
      "The randomly selected item is: 44353\n"
     ]
    }
   ],
   "source": [
    "# Load the CDF model\n",
    "with open('lora_dist_model.pkl', 'rb') as f:\n",
    "    cdf_model = pickle.load(f)\n",
    "\n",
    "# Generate a random item and time it\n",
    "start = time.time()\n",
    "rand = np.random.rand()\n",
    "random_item = binary_search_with_uniform_choice(cdf_model, rand)\n",
    "end = time.time()\n",
    "\n",
    "\n",
    "# Output the result\n",
    "print(f\"Time taken: {end - start}\")\n",
    "print(f\"The randomly selected item is: {random_item}\")"
   ]
  },
  {
   "cell_type": "code",
   "execution_count": 20,
   "metadata": {},
   "outputs": [
    {
     "name": "stdout",
     "output_type": "stream",
     "text": [
      "The newest date is: 2024-03-22 05:23:22.600000\n"
     ]
    }
   ],
   "source": [
    "import json\n",
    "from datetime import datetime\n",
    "import pickle\n",
    "\n",
    "# Load civit_catalog.json\n",
    "with open('cache/civit_catalog.json') as f:\n",
    "    civit_catalog = json.load(f)\n",
    "\n",
    "def parse_date(date_str):\n",
    "    \"\"\"\n",
    "    Attempts to parse a datetime string with fractional seconds.\n",
    "    Falls back to parsing without fractional seconds if that fails.\n",
    "    \"\"\"\n",
    "    try:\n",
    "        return datetime.strptime(date_str, \"%Y-%m-%dT%H:%M:%S.%f\")\n",
    "    except ValueError:\n",
    "        return datetime.strptime(date_str, \"%Y-%m-%dT%H:%M:%S\")\n",
    "\n",
    "dates = []\n",
    "for item in civit_catalog:\n",
    "    if item['type'] == 'LORA':\n",
    "        if len(item['modelVersions']) == 0:\n",
    "            continue\n",
    "        oldest_version = item['modelVersions'][-1]\n",
    "        published_date_str = oldest_version['publishedAt']\n",
    "        if published_date_str is None:\n",
    "            continue\n",
    "        # Use the adjusted parse_date function\n",
    "        published_date = parse_date(published_date_str)\n",
    "        dates.append(published_date)\n",
    "\n",
    "# Proceed only if there are dates to sort\n",
    "if dates:\n",
    "    # Find the newest date\n",
    "    dates.sort()\n",
    "    newest_date = dates[-1]\n",
    "    print(f\"The newest date is: {newest_date}\")\n",
    "else:\n",
    "    print(\"No dates found.\")\n"
   ]
  },
  {
   "cell_type": "code",
   "execution_count": null,
   "metadata": {},
   "outputs": [],
   "source": []
  }
 ],
 "metadata": {
  "kernelspec": {
   "display_name": "Python 3",
   "language": "python",
   "name": "python3"
  },
  "language_info": {
   "codemirror_mode": {
    "name": "ipython",
    "version": 3
   },
   "file_extension": ".py",
   "mimetype": "text/x-python",
   "name": "python",
   "nbconvert_exporter": "python",
   "pygments_lexer": "ipython3",
   "version": "3.10.6"
  }
 },
 "nbformat": 4,
 "nbformat_minor": 2
}
